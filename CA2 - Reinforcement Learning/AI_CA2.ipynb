{
 "cells": [
  {
   "cell_type": "markdown",
   "metadata": {},
   "source": [
    "# Artificial Intelligence Course - Fall 1402\n",
    "## Computer Assignment #2 - Reinforcement Learning (RL)\n",
    "\n",
    "### Mehdi Jamalkhah, SID: 810100111"
   ]
  },
  {
   "cell_type": "markdown",
   "metadata": {},
   "source": [
    "### Table of Contents<a id='toc0_'></a>    \n",
    "- [Introduction](#toc1_)    \n",
    "- [Part 1: Value Iteration & Policy Iteration Algorithms](#toc2_)    \n",
    "  - [Problem Description](#toc2_1_)    \n",
    "  - [Value Iteration Algorithm](#toc2_2_)    \n",
    "  - [Implementation of Value Iteration Algorithm](#toc2_3_)    \n",
    "  - [Policy Iteration Algorithm](#toc2_4_)    \n",
    "  - [Implementation of Policy Iteration Algorithm](#toc2_5_)    \n",
    "  - [Execute the algorithm and display the results.](#toc2_6_)    \n",
    "    - [Value Iteration:](#toc2_6_1_)    \n",
    "    - [Policy Iteration:](#toc2_6_2_)    \n",
    "  - [Value Iteration VS. Policy Iteration](#toc2_7_)    \n",
    "    - [Value Iteration:](#toc2_7_1_)    \n",
    "    - [Policy Iteration:](#toc2_7_2_)    \n",
    "- [Part 2: Q-Learning Algorithm](#toc3_)    \n",
    "  - [Problem Description](#toc3_1_)    \n",
    "  - [Q-Learning Algorithm](#toc3_2_)    \n",
    "  - [Implementation of Q-Learning Algorithm](#toc3_3_)    \n",
    "  - [Constant Learning Rate VS. Decaying Learning Rate](#toc3_4_)    \n",
    "  - [Visualizing the Agent's Behavior](#toc3_5_)    \n",
    "\n",
    "<!-- vscode-jupyter-toc-config\n",
    "\tnumbering=false\n",
    "\tanchor=true\n",
    "\tflat=false\n",
    "\tminLevel=2\n",
    "\tmaxLevel=6\n",
    "\t/vscode-jupyter-toc-config -->\n",
    "<!-- THIS CELL WILL BE REPLACED ON TOC UPDATE. DO NOT WRITE YOUR TEXT IN THIS CELL -->"
   ]
  },
  {
   "cell_type": "markdown",
   "metadata": {},
   "source": [
    "<a name='0'></a>\n",
    "## <a id='toc1_'></a>Introduction [](#toc0_)\n",
    "In this project, we will discuss Markov Decision Processes (MDP) and Reinforcement Learning (RL) in context of two problems in the [Gym](https://gymnasium.farama.org/) library.\n",
    "In the first part, we aim to solve the [Frozen Lake](https://www.gymlibrary.dev/environments/toy_text/frozen_lake/) problem using two algorithms: Value Iteration and Policy Iteration algorithms.\n",
    "Moving on to the second part, we will address RL in the [Taxi](https://gymnasium.farama.org/environments/toy_text/taxi/) problem.\n",
    "After implementing each part, we will evaluate the algorithms and propose potential improvements."
   ]
  },
  {
   "cell_type": "code",
   "execution_count": 1,
   "metadata": {
    "id": "dpTWKluXMHP5"
   },
   "outputs": [],
   "source": [
    "# import\n",
    "import numpy as np\n",
    "import gym\n",
    "import time\n",
    "import matplotlib.pyplot as plt\n",
    "import seaborn as sns\n",
    "from math import pow"
   ]
  },
  {
   "cell_type": "markdown",
   "metadata": {},
   "source": [
    "<a name='1'></a>\n",
    "## <a id='toc2_'></a>Part 1: Value Iteration & Policy Iteration Algorithms [](#toc0_)"
   ]
  },
  {
   "cell_type": "markdown",
   "metadata": {},
   "source": [
    "### <a id='toc2_1_'></a>Problem Description [](#toc0_)\n",
    "Frozen lake involves crossing a frozen lake from Start(S) to Goal(G) without falling into any Holes(H) by walking over the Frozen(F) lake. The agent may not always move in the intended direction due to the slippery nature of the frozen lake."
   ]
  },
  {
   "cell_type": "code",
   "execution_count": 2,
   "metadata": {
    "id": "8LizJeOYRMEq"
   },
   "outputs": [],
   "source": [
    "env = gym.make('FrozenLake-v1', desc=None, map_name=\"4x4\", is_slippery=False, render_mode=\"human\")"
   ]
  },
  {
   "cell_type": "markdown",
   "metadata": {},
   "source": [
    "Total number of states is:"
   ]
  },
  {
   "cell_type": "code",
   "execution_count": 33,
   "metadata": {
    "colab": {
     "base_uri": "https://localhost:8080/"
    },
    "id": "x5QTTUSrSM-L",
    "outputId": "206e612c-52ca-49d4-91b8-31f9faf5f1bc"
   },
   "outputs": [
    {
     "data": {
      "text/plain": [
       "16"
      ]
     },
     "execution_count": 33,
     "metadata": {},
     "output_type": "execute_result"
    }
   ],
   "source": [
    "env.observation_space.n"
   ]
  },
  {
   "cell_type": "markdown",
   "metadata": {},
   "source": [
    "Total number of actions is:"
   ]
  },
  {
   "cell_type": "code",
   "execution_count": 34,
   "metadata": {
    "colab": {
     "base_uri": "https://localhost:8080/"
    },
    "id": "EeaBqUeZSNNY",
    "outputId": "46e8a041-a1e4-4e43-c22a-4e2c1a3a3ddc"
   },
   "outputs": [
    {
     "data": {
      "text/plain": [
       "4"
      ]
     },
     "execution_count": 34,
     "metadata": {},
     "output_type": "execute_result"
    }
   ],
   "source": [
    "env.action_space.n"
   ]
  },
  {
   "cell_type": "markdown",
   "metadata": {},
   "source": [
    "### <a id='toc2_2_'></a>Value Iteration Algorithm [](#toc0_)"
   ]
  },
  {
   "cell_type": "markdown",
   "metadata": {
    "id": "xRDhQMwwnK2s"
   },
   "source": [
    "Value iteration is obtained simply by turning the Bellman optimality equation into an update rule. \n",
    "\\begin{equation}\n",
    "    v_{*}(s) = max_{a} \\sum_{s'} p(s'|s, a)[r + \\gamma v_{*}(s')]\n",
    "\\end{equation}\n",
    "\n",
    "Actually value iteration updates the value function by taking the maximum expected value over all possible actions at each state. \n",
    "It formally requires an infinite number of iterations to converge exactly to $v_{*}$. In\n",
    "practice, we stop once the value function changes by only a small amount in a sweep.\n",
    "<!-- The formula below shows a complete algorithm with this kind of termination condition. -->\n",
    "<!-- \\begin{equation}\n",
    "    Loop: \\\\\n",
    "    \\quad \\delta \\leftarrow 0 \\\\\n",
    "    \\quad Loop for each s S:  \\\\\n",
    "    \\quad v \\leftarrow V(s)  \\\\\n",
    "    \\quad V(s) \\leftarrow max_{a} \\sum_{s'} p(s'|s, a)[r + \\gamma v_{*}]\n",
    "    \\delta \\leftarrow max(\\delta, |v - V(s)|)\n",
    "    until \\delta \\le \\theta\n",
    "\\end{equation} -->"
   ]
  },
  {
   "cell_type": "markdown",
   "metadata": {},
   "source": [
    "<a name='1-1'></a>\n",
    "### <a id='toc2_3_'></a>Implementation of Value Iteration Algorithm [](#toc0_)"
   ]
  },
  {
   "cell_type": "code",
   "execution_count": 35,
   "metadata": {
    "id": "VKP8LjK5jGoW"
   },
   "outputs": [],
   "source": [
    "class ValueIteration():\n",
    "    def __init__(self, env, discount_factor, theta=1e-8):\n",
    "        self.env = env\n",
    "        self.discount_factor = discount_factor\n",
    "        self.theta = theta\n",
    "        self.reset()\n",
    "        self.state_values = np.ones((self.env.observation_space.n)) / self.env.action_space.n\n",
    "        self.q_values = np.ones((self.env.observation_space.n, self.env.action_space.n)) / self.env.action_space.n\n",
    "        self.state_values[self.env.observation_space.n - 1] = 0\n",
    "        self.q_values[self.env.observation_space.n - 1] = np.zeros((self.env.action_space.n))\n",
    "\n",
    "    def value_estimation(self):\n",
    "        self.delta = np.inf\n",
    "\n",
    "        while(self.delta > self.theta):\n",
    "\n",
    "            self.delta = 0\n",
    "\n",
    "            for state in range(self.env.observation_space.n):\n",
    "\n",
    "                v = self.state_values[state]\n",
    "\n",
    "                for action in range(self.env.action_space.n):\n",
    "                    action_value = 0\n",
    "                    for probability, next_state, reward, done in self.env.P[state][action]:\n",
    "                         action_value += probability * (reward + self.discount_factor * self.state_values[next_state])\n",
    "                    self.q_values[state, action] = action_value\n",
    "\n",
    "                self.state_values[state] = np.max(self.q_values[state,:])\n",
    "\n",
    "                self.delta = np.max([self.delta, abs(v - self.state_values[state])])\n",
    "\n",
    "    def take_action(self, action):\n",
    "        next_state, reward, done, _, _ = self.env.step(action)\n",
    "        return next_state, reward, done\n",
    "\n",
    "    def get_optimal_policy(self, state):\n",
    "        return np.argmax(self.q_values[state,:])\n",
    "\n",
    "    def get_state_values(self):\n",
    "        return self.state_values\n",
    "\n",
    "    def get_q_values(self):\n",
    "        return self.q_values\n",
    "\n",
    "    def reset(self):\n",
    "        initial_state = self.env.reset()\n",
    "        return initial_state"
   ]
  },
  {
   "cell_type": "markdown",
   "metadata": {},
   "source": [
    "### <a id='toc2_4_'></a>Policy Iteration Algorithm [](#toc0_)"
   ]
  },
  {
   "cell_type": "markdown",
   "metadata": {
    "id": "AMJJpf1tnddF"
   },
   "source": [
    "Policy Iteration is an alternative approach for obtaining optimal values. It is similar to value iteration but, instead of considering all possible actions, it uses a fixed direction at each state. Here are the steps:\n",
    "- Step 1: Policy Evaluation: calculate values for some fixed policy (not optimal values!) until convergence.\n",
    "- Step 2: Policy Improvement: update policy using one-step look-ahead with resulting converged (but not optimal!) values.\n",
    "\n",
    "- Repeat steps until policy converges\n",
    "Its formula will change as follows:\n",
    "\\begin{equation}\n",
    "    v_{k+1}^{\\pi}(s) = \\sum_{s'} p(s'|s, \\pi(s))[r + \\gamma v_{k}^{\\pi}(s')]\n",
    "\\end{equation}\n",
    "\n"
   ]
  },
  {
   "cell_type": "markdown",
   "metadata": {},
   "source": [
    "### <a id='toc2_5_'></a>Implementation of Policy Iteration Algorithm [](#toc0_)"
   ]
  },
  {
   "cell_type": "code",
   "execution_count": 36,
   "metadata": {
    "executionInfo": {
     "elapsed": 14,
     "status": "ok",
     "timestamp": 1698433256083,
     "user": {
      "displayName": "Mohammad Saadati",
      "userId": "00242434153251678664"
     },
     "user_tz": -210
    },
    "id": "XjSb1lX147hd"
   },
   "outputs": [],
   "source": [
    "class PolicyIteration():\n",
    "    def __init__(self, env, discount_factor, theta=1e-8):\n",
    "        self.env = env\n",
    "        self.discount_factor = discount_factor\n",
    "        self.theta = theta\n",
    "        self.reset()\n",
    "        self.state_values = np.ones((self.env.observation_space.n)) / self.env.action_space.n\n",
    "        self.q_values = np.ones((self.env.observation_space.n, self.env.action_space.n)) / self.env.action_space.n\n",
    "        self.state_values[self.env.observation_space.n - 1] = 0\n",
    "        self.q_values[self.env.observation_space.n - 1] = np.zeros((self.env.action_space.n))\n",
    "        self.policy = np.random.randint(self.env.action_space.n, size=self.env.observation_space.n) # initial policy\n",
    "        self.policy_stable = False\n",
    "\n",
    "    def policy_evaluation(self):\n",
    "        self.delta = np.inf\n",
    "\n",
    "        while(self.delta >= self.theta):\n",
    "\n",
    "            self.delta = 0\n",
    "\n",
    "            for state in range(self.env.observation_space.n):\n",
    "\n",
    "                v = self.state_values[state]\n",
    "\n",
    "                new_state_value = 0\n",
    "                for probability, next_state, reward, done in self.env.P[state][self.policy[state]]:\n",
    "\n",
    "                    new_state_value += probability * (reward + self.discount_factor * self.state_values[next_state])\n",
    "\n",
    "                self.state_values[state] = new_state_value\n",
    "\n",
    "                self.delta = np.max([self.delta, abs(v - self.state_values[state])])\n",
    "\n",
    "    def policy_improvement(self):\n",
    "        self.policy_stable = True\n",
    "\n",
    "        for state in range(self.env.observation_space.n):\n",
    "            old_policy = self.policy[state]\n",
    "\n",
    "            for action in range(self.env.action_space.n):\n",
    "\n",
    "                action_value = 0\n",
    "                for probability, next_state, reward, done in self.env.P[state][action]:\n",
    "                    action_value += probability * (reward + self.discount_factor * self.state_values[next_state])\n",
    "\n",
    "                self.q_values[state, action] = action_value\n",
    "\n",
    "            self.policy[state] = np.argmax(self.q_values[state,:])\n",
    "\n",
    "            if old_policy != self.policy[state]:\n",
    "                self.policy_stable = False\n",
    "\n",
    "    def policy_estimation(self):\n",
    "        self.policy_stable = False\n",
    "\n",
    "        while not self.policy_stable:\n",
    "            self.policy_evaluation()\n",
    "            self.policy_improvement()\n",
    "\n",
    "    def take_action(self, action):\n",
    "        next_state, reward, done, _, _ = self.env.step(action)\n",
    "        return next_state, reward, done\n",
    "\n",
    "    def get_optimal_policy(self, state):\n",
    "        return self.policy[state]\n",
    "\n",
    "    def get_state_values(self):\n",
    "        return self.state_values\n",
    "\n",
    "    def get_q_values(self):\n",
    "        return self.q_values\n",
    "\n",
    "    def reset(self):\n",
    "        initial_state = self.env.reset()\n",
    "        return initial_state"
   ]
  },
  {
   "cell_type": "markdown",
   "metadata": {},
   "source": [
    "### <a id='toc2_6_'></a>Execute the algorithm and display the results. [](#toc0_)"
   ]
  },
  {
   "cell_type": "code",
   "execution_count": 37,
   "metadata": {},
   "outputs": [],
   "source": [
    "# hyperparameters\n",
    "DISCOUNT_FACTOR = 0.9\n",
    "LEFT = '←'\n",
    "RIGHT = '→'\n",
    "UP = '↑'\n",
    "DOWN = '↓'"
   ]
  },
  {
   "cell_type": "markdown",
   "metadata": {},
   "source": [
    "We define the functions `plot_state_values` and `plot_optimal_policy` to visualize the optimal policy and state values graphically. This allows us to better understand the underlying processes and make meaningful comparisons between the two algorithms: value iteration and policy iteration."
   ]
  },
  {
   "cell_type": "code",
   "execution_count": 38,
   "metadata": {},
   "outputs": [],
   "source": [
    "def plot_state_values(state_values):\n",
    "    sns.heatmap(state_values, cmap=\"coolwarm\", annot=True, fmt=\".1f\",annot_kws={'size':16},square=True)\n",
    "    for i in range(state_values.shape[0]):\n",
    "        for j in range(state_values.shape[1]):\n",
    "            plt.text(j, i, i * 4 + j, ha='left', va='top')\n",
    "    plt.xticks([])\n",
    "    plt.yticks([])\n",
    "\n",
    "def plot_optimal_policy(agent:ValueIteration):\n",
    "    state_values = agent.get_state_values().reshape(4, 4)\n",
    "    rows , cols = state_values.shape\n",
    "    sns.heatmap(state_values, cmap='coolwarm')\n",
    "    for i in range(rows):\n",
    "        for j in range(cols):\n",
    "            action = agent.get_optimal_policy(i * cols + j)\n",
    "            if action == 0:\n",
    "                dir = LEFT\n",
    "            elif action == 1:\n",
    "                dir = DOWN\n",
    "            elif action == 2:\n",
    "                dir = RIGHT\n",
    "            elif action == 3:\n",
    "                dir = UP\n",
    "            plt.text(j, i, i * cols + j, ha='left', va='top')\n",
    "            if  i * cols + j == (rows * cols - 1):\n",
    "                plt.text(j + 0.5, i + 0.5, 'G', ha='center', va='center', fontsize=27)\n",
    "            else:\n",
    "                plt.text(j + 0.5, i + 0.5, dir, ha='center', va='center', fontsize=27)\n",
    "    plt.xticks([])\n",
    "    plt.yticks([])"
   ]
  },
  {
   "cell_type": "markdown",
   "metadata": {},
   "source": [
    "#### <a id='toc2_6_1_'></a>Value Iteration: [](#toc0_)\n"
   ]
  },
  {
   "cell_type": "code",
   "execution_count": 39,
   "metadata": {
    "id": "RGYLOfYAuKjY"
   },
   "outputs": [
    {
     "data": {
      "image/png": "[encoded data removed]",
      "text/plain": [
       "<Figure size 640x480 with 2 Axes>"
      ]
     },
     "metadata": {},
     "output_type": "display_data"
    },
    {
     "data": {
      "image/png": "[encoded data removed]",
      "text/plain": [
       "<Figure size 640x480 with 2 Axes>"
      ]
     },
     "metadata": {},
     "output_type": "display_data"
    }
   ],
   "source": [
    "\n",
    "# Estimation\n",
    "agent_valueItr = ValueIteration(env, DISCOUNT_FACTOR)\n",
    "start_valueItr = time.time()\n",
    "agent_valueItr.value_estimation()\n",
    "end_valueItr = time.time()\n",
    "\n",
    "# Ploting\n",
    "plot_state_values(agent_valueItr.get_state_values().reshape(4, 4))\n",
    "plt.title(\"State Values: Value Iteration\")\n",
    "plt.figure()\n",
    "plot_optimal_policy(agent_valueItr)\n",
    "plt.title(\"Optimal Policy: Value Iteration\")\n",
    "\n",
    "# Agent behavior based on the optimal policy\n",
    "current_state = 0\n",
    "done = False\n",
    "while done == False:\n",
    "    action = agent_valueItr.get_optimal_policy(current_state)\n",
    "    next_state, reward, done = agent_valueItr.take_action(action)\n",
    "    current_state = next_state\n"
   ]
  },
  {
   "cell_type": "markdown",
   "metadata": {},
   "source": [
    "#### <a id='toc2_6_2_'></a>Policy Iteration: [](#toc0_)"
   ]
  },
  {
   "cell_type": "code",
   "execution_count": 40,
   "metadata": {
    "id": "7Vxf_xKc44QT"
   },
   "outputs": [
    {
     "data": {
      "image/png": "[encoded data removed]",
      "text/plain": [
       "<Figure size 640x480 with 2 Axes>"
      ]
     },
     "metadata": {},
     "output_type": "display_data"
    },
    {
     "data": {
      "image/png": "[encoded data removed]",
      "text/plain": [
       "<Figure size 640x480 with 2 Axes>"
      ]
     },
     "metadata": {},
     "output_type": "display_data"
    }
   ],
   "source": [
    "# Estimation\n",
    "agent_policyItr = PolicyIteration(env, DISCOUNT_FACTOR)\n",
    "start_policyItr = time.time()\n",
    "agent_policyItr.policy_estimation()\n",
    "end_policyItr = time.time()\n",
    "\n",
    "# Ploting\n",
    "plot_state_values(agent_policyItr.get_state_values().reshape(4, 4))\n",
    "plt.title(\"State Values: Policy Iteration\")\n",
    "plt.figure()\n",
    "plot_optimal_policy(agent_policyItr)\n",
    "plt.title(\"Optimal Policy: Policy Iteration\")\n",
    "\n",
    "# Agent behavior based on the optimal policy\n",
    "current_state = 0\n",
    "done = False\n",
    "while done == False:\n",
    "    action = agent_policyItr.get_optimal_policy(current_state)\n",
    "    next_state, reward, done = agent_policyItr.take_action(action)\n",
    "    current_state = next_state"
   ]
  },
  {
   "cell_type": "markdown",
   "metadata": {},
   "source": [
    "### <a id='toc2_7_'></a>Value Iteration VS. Policy Iteration [](#toc0_)"
   ]
  },
  {
   "cell_type": "markdown",
   "metadata": {},
   "source": [
    "As you can see, both algorithms yield the same state values and optimal policy. Therefore, it is reasonable to compare their execution times to determine which one is faster. Since there is no difference in the results obtained from both algorithms."
   ]
  },
  {
   "cell_type": "markdown",
   "metadata": {},
   "source": [
    "#### <a id='toc2_7_1_'></a>Value Iteration: [](#toc0_)"
   ]
  },
  {
   "cell_type": "code",
   "execution_count": 42,
   "metadata": {
    "id": "vCBnAicAPAcv"
   },
   "outputs": [
    {
     "name": "stdout",
     "output_type": "stream",
     "text": [
      "Value iteration time: 0.079 secods\n"
     ]
    }
   ],
   "source": [
    "valueItr_time = end_valueItr - start_valueItr\n",
    "print(\"Value iteration time: \"f\"{valueItr_time:.3f}\" \" seconds\")"
   ]
  },
  {
   "cell_type": "markdown",
   "metadata": {},
   "source": [
    "#### <a id='toc2_7_2_'></a>Policy Iteration: [](#toc0_)"
   ]
  },
  {
   "cell_type": "code",
   "execution_count": 43,
   "metadata": {
    "id": "LnUZpvLP446n"
   },
   "outputs": [
    {
     "name": "stdout",
     "output_type": "stream",
     "text": [
      "Policy iteration time: 0.041 secods\n"
     ]
    }
   ],
   "source": [
    "policyItr_time = end_policyItr - start_policyItr\n",
    "print(\"Policy iteration time: \"f\"{policyItr_time:.3f}\" \" seconds\")"
   ]
  },
  {
   "cell_type": "markdown",
   "metadata": {},
   "source": [
    "It appears that in our example, policy iteration is more than two times faster than value iteration. In fact, policy iteration is often faster because it avoids to evaluating all possible actions in each state. Instead, it focuses on the actions prescribed by the policy(not yet optimal), reducing the time complexity from $O(S ^ {2} A)$ to $O(S ^{2})$ (where $S$ is the number of states and $A$ is the number of possible actions).\n",
    "\n",
    "The key behind this efficiency is that policy iteration suggests that if a particular action is chosen, it is beneficial to repeat that action multiple times until the state values change significantly. It is unnecessary to update the policy immediately after each action is taken. This approach allows for faster convergence and reduces the computational burden associated with evaluating every possible action at each state."
   ]
  },
  {
   "cell_type": "markdown",
   "metadata": {},
   "source": [
    "## <a id='toc3_'></a>Part 2: Q-Learning Algorithm [](#toc0_)"
   ]
  },
  {
   "cell_type": "markdown",
   "metadata": {},
   "source": [
    "### <a id='toc3_1_'></a>Problem Description [](#toc0_)\n",
    "There are four designated locations in the grid world indicated by R(ed), G(reen), Y(ellow), and B(lue). When the episode starts, the taxi starts off at a random square and the passenger is at a random location. The taxi drives to the passenger’s location, picks up the passenger, drives to the passenger’s destination (another one of the four specified locations), and then drops off the passenger. Once the passenger is dropped off, the episode ends.\n",
    "\n",
    "Let's get more familiar with this environment:"
   ]
  },
  {
   "cell_type": "code",
   "execution_count": 44,
   "metadata": {
    "id": "3cW_rkeDMOE8"
   },
   "outputs": [],
   "source": [
    "# hyperparameters\n",
    "REPS = 20\n",
    "EPISODES = 2000\n",
    "EPSILON = 0.1\n",
    "LEARNING_RATE = 0.1\n",
    "DISCOUNT = 0.9\n",
    "STUDENT_NUM = 111\n",
    "MAX_REWARD = 10"
   ]
  },
  {
   "cell_type": "markdown",
   "metadata": {},
   "source": [
    "The initial state is:"
   ]
  },
  {
   "cell_type": "code",
   "execution_count": 45,
   "metadata": {
    "id": "L1c1w7tRMOR_"
   },
   "outputs": [
    {
     "data": {
      "text/plain": [
       "73"
      ]
     },
     "execution_count": 45,
     "metadata": {},
     "output_type": "execute_result"
    }
   ],
   "source": [
    "# environment\n",
    "env = gym.make('Taxi-v3', render_mode=\"human\")\n",
    "Initial_State, _ = env.reset(seed = STUDENT_NUM)\n",
    "Initial_State"
   ]
  },
  {
   "cell_type": "markdown",
   "metadata": {},
   "source": [
    "and the locations of taxi and passenger are as follows:"
   ]
  },
  {
   "cell_type": "code",
   "execution_count": 46,
   "metadata": {
    "id": "ou0fWiX_MsZb"
   },
   "outputs": [
    {
     "data": {
      "text/plain": [
       "(0, 3, 3, 1)"
      ]
     },
     "execution_count": 46,
     "metadata": {},
     "output_type": "execute_result"
    }
   ],
   "source": [
    "taxi_row, taxi_col, pass_idx, dest_idx = env.decode(Initial_State)\n",
    "taxi_row, taxi_col, pass_idx, dest_idx"
   ]
  },
  {
   "cell_type": "markdown",
   "metadata": {},
   "source": [
    "Total number of states is:"
   ]
  },
  {
   "cell_type": "code",
   "execution_count": 48,
   "metadata": {
    "id": "mQCB-ZIfNwJM"
   },
   "outputs": [
    {
     "data": {
      "text/plain": [
       "500"
      ]
     },
     "execution_count": 48,
     "metadata": {},
     "output_type": "execute_result"
    }
   ],
   "source": [
    "env.observation_space.n"
   ]
  },
  {
   "cell_type": "markdown",
   "metadata": {},
   "source": [
    "Total number of actions is:"
   ]
  },
  {
   "cell_type": "code",
   "execution_count": 49,
   "metadata": {
    "id": "lmk_EYbKNwYT"
   },
   "outputs": [
    {
     "data": {
      "text/plain": [
       "6"
      ]
     },
     "execution_count": 49,
     "metadata": {},
     "output_type": "execute_result"
    }
   ],
   "source": [
    "env.action_space.n"
   ]
  },
  {
   "cell_type": "markdown",
   "metadata": {},
   "source": [
    "### <a id='toc3_2_'></a>Q-Learning Algorithm [](#toc0_)\n",
    "Q-learning is a reinforcement learning algorithm that enables an agent to learn an optimal policy in a Markov Decision Process (MDP) without prior knowledge of the environment's dynamics. The algorithm uses a value function called the Q-value to estimate the expected cumulative reward of taking an action in a given state. Through iterative updates using the Bellman equation, Q-learning gradually improves the Q-values based on the agent's interactions with the environment. By exploring and exploiting actions based on the current Q-values, the agent learns to make optimal decisions and maximize its long-term rewards.\n",
    "$$\n",
    "Q(S,A) = (1- \\alpha)Q(S, A) + \\alpha [R + \\gamma max_{a}Q'(S', a)]\n",
    "$$\n"
   ]
  },
  {
   "cell_type": "markdown",
   "metadata": {},
   "source": [
    "### <a id='toc3_3_'></a>Implementation of Q-Learning Algorithm [](#toc0_)"
   ]
  },
  {
   "cell_type": "code",
   "execution_count": 50,
   "metadata": {
    "executionInfo": {
     "elapsed": 503,
     "status": "ok",
     "timestamp": 1698434549406,
     "user": {
      "displayName": "Mohammad Saadati",
      "userId": "00242434153251678664"
     },
     "user_tz": -210
    },
    "id": "Ue4m5fg9450B"
   },
   "outputs": [],
   "source": [
    "class QLearningAgent():\n",
    "    def __init__(self, env, epsilon, learning_rate, discount_factor, seed):\n",
    "      self.env = env\n",
    "      self.epsilon = epsilon\n",
    "      self.learning_rate = learning_rate\n",
    "      self.olr = learning_rate\n",
    "      self.oeps = epsilon\n",
    "      self.discount_factor = discount_factor\n",
    "      self.q_table = np.zeros((env.observation_space.n, env.action_space.n))\n",
    "      self.seed = seed\n",
    "\n",
    "    def choose_action(self, state):\n",
    "      # With probability epsilon, choose a random action\n",
    "      if np.random.rand() < self.epsilon:\n",
    "        action = np.random.randint(low=0, high=self.env.action_space.n)\n",
    "      # Otherwise, choose the action with the highest Q-value\n",
    "      else:\n",
    "        action = np.argmax(self.q_table[state])\n",
    "\n",
    "      return action\n",
    "\n",
    "    def update_q_table(self, state, action, next_state, reward):\n",
    "      # Calculate the new Q-value using the Q-learning formula\n",
    "      sample =  reward + self.discount_factor * (np.max([self.q_table[next_state, :]]))\n",
    "      self.q_table[state][action] = (1 - self.learning_rate) * self.q_table[state][action] + self.learning_rate * sample\n",
    "    \n",
    "    def decay_epsilon(self):\n",
    "      decay_rate = 0.5\n",
    "      self.epsilon = self.epsilon * decay_rate\n",
    "\n",
    "    def decrease_learning_rate_linearly(self):\n",
    "      self.learning_rate = max(self.learning_rate - (self.olr / EPISODES), 0)\n",
    "\n",
    "    def decrease_learning_rate_exponentially(self):\n",
    "      decay_rate = 0.99\n",
    "      self.learning_rate = self.learning_rate * decay_rate\n",
    "\n",
    "    def take_action(self, action):\n",
    "      next_state, reward, done, _, _= self.env.step(action)\n",
    "      return next_state, reward, done\n",
    "\n",
    "    def get_optimal_policy(self, state):\n",
    "      return np.argmax(self.q_table[state])\n",
    "\n",
    "    def get_q_values(self):\n",
    "      return self.q_table\n",
    "\n",
    "    def reset(self):\n",
    "      self.learning_rate = self.olr\n",
    "      self.epsilon = self.oeps\n",
    "      return self.env.reset(seed=self.seed)"
   ]
  },
  {
   "cell_type": "markdown",
   "metadata": {},
   "source": [
    "### <a id='toc3_4_'></a>Constant Learning Rate VS. Decaying Learning Rate [](#toc0_)"
   ]
  },
  {
   "cell_type": "markdown",
   "metadata": {},
   "source": [
    "- Constant Learning Rate:\n",
    "    - In this approach, the learning rate remains constant throughout the entire training duration and does not change.\n",
    "\n",
    "\n",
    "- Decaying Learning Rate:\n",
    "    - In this approach, the learning rate decreases over time. Typically, a decaying function such as a linear or exponential function is used to determine the learning rate."
   ]
  },
  {
   "cell_type": "markdown",
   "metadata": {},
   "source": [
    "`run_episode` run the Q-learning algorithm for one episode, an episode is considered completed when the agent reaches the goal state. "
   ]
  },
  {
   "cell_type": "code",
   "execution_count": 51,
   "metadata": {},
   "outputs": [],
   "source": [
    "def run_episode(agent:QLearningAgent):\n",
    "    total_reward = 0\n",
    "    state, _ = agent.reset()\n",
    "    done = False\n",
    "    while done == False:\n",
    "      best_action = agent.choose_action(state)\n",
    "      next_state, reward, done = agent.take_action(best_action)\n",
    "      agent.update_q_table(state, best_action, next_state, reward)\n",
    "      state = next_state\n",
    "      total_reward += reward\n",
    "    agent.decay_epsilon()\n",
    "    return total_reward"
   ]
  },
  {
   "cell_type": "code",
   "execution_count": 52,
   "metadata": {
    "id": "qgRhXXmwo6MT"
   },
   "outputs": [
    {
     "data": {
      "image/png": "[encoded data removed]",
      "text/plain": [
       "<Figure size 640x480 with 1 Axes>"
      ]
     },
     "metadata": {},
     "output_type": "display_data"
    }
   ],
   "source": [
    "\n",
    "env = gym.make('Taxi-v3')\n",
    "\n",
    "total_reward = np.zeros(EPISODES)\n",
    "agent = QLearningAgent(env, EPSILON, LEARNING_RATE, DISCOUNT, STUDENT_NUM)\n",
    "for rep in range(REPS):\n",
    "  for episode in range(EPISODES):\n",
    "    reward = run_episode(agent)\n",
    "    total_reward[episode] += reward\n",
    "total_reward /= REPS\n",
    "\n",
    "total_reward_decay_lr_linear = np.zeros(EPISODES)\n",
    "agent = QLearningAgent(env, EPSILON, LEARNING_RATE, DISCOUNT, STUDENT_NUM)\n",
    "for rep in range(REPS):\n",
    "  for episode in range(EPISODES):\n",
    "    reward = run_episode(agent)\n",
    "    total_reward_decay_lr_linear[episode] += reward\n",
    "    agent.decrease_learning_rate_linearly()\n",
    "total_reward_decay_lr_linear /= REPS\n",
    "\n",
    "total_reward_decay_lr_exp = np.zeros(EPISODES)\n",
    "agent = QLearningAgent(env, EPSILON, LEARNING_RATE, DISCOUNT, STUDENT_NUM)\n",
    "for rep in range(REPS):\n",
    "  for episode in range(EPISODES):\n",
    "    reward = run_episode(agent)\n",
    "    total_reward_decay_lr_exp[episode] += reward\n",
    "    agent.decrease_learning_rate_exponentially()\n",
    "\n",
    "total_reward_decay_lr_exp /= REPS\n",
    "\n",
    "x = np.arange(0, EPISODES)\n",
    "plt.plot(x, total_reward, label=\"without decaying learning rate\")\n",
    "plt.plot(x, total_reward_decay_lr_exp, label =\"decay learnig rate exponentially\")\n",
    "plt.plot(x, total_reward_decay_lr_linear, label=\"decay learning rate linearly\")\n",
    "plt.plot(x, np.ones(x.shape[0]) * MAX_REWARD, '--', label=\"maximum reward\")\n",
    "plt.xlabel(\"episode\")\n",
    "plt.ylabel(\"total reward\")\n",
    "plt.title(\"Compare three different approaches of Q-learning.\")\n",
    "plt.legend()\n",
    "plt.grid()"
   ]
  },
  {
   "cell_type": "markdown",
   "metadata": {},
   "source": [
    "As you can see in the figure above, there is not a significant difference in convergence time among different methods. I believe the reason for this is that once we reach the optimal values in this case, there is no significant difference in whether we update them or not because the system has already converged. However, upon further research, I came across something that contradicts this notion.\n",
    "\n",
    "Decaying the learning rate can often be beneficial in the training process of many machine learning algorithms, including reinforcement learning. Here are a few reasons why decaying the learning rate is commonly done:\n",
    "\n",
    "1. Convergence: Initially, a higher learning rate allows for larger updates and faster exploration of the parameter space.\n",
    "\n",
    "2. Stability: A high learning rate can cause the training process to become unstable, leading to large oscillations or divergence. By decaying the learning rate, the updates become smaller over time, which can help stabilize the training and prevent overshooting or oscillations around the optimal solution.\n",
    "\n",
    "3. Exploration-Exploitation Trade-off: In reinforcement learning, decaying the learning rate can be useful for balancing exploration and exploitation. Initially, a higher learning rate encourages more exploration, allowing the agent to discover different actions and learn about the environment. As training progresses, reducing the learning rate enables the agent to exploit the learned knowledge and refine its policy based on the observed rewards.\n",
    "\n",
    "\n",
    "The above result is more general, and it is not appropriate to make a definitive decision based solely on one example.\n",
    "\n",
    " Another important point observed during testing different methods for decaying the learning rate is that we should be cautious about decaying the learning rate too early, before the convergence of values, as it can prevent the agent from learning the optimal policy.\n"
   ]
  },
  {
   "cell_type": "markdown",
   "metadata": {},
   "source": [
    "### <a id='toc3_5_'></a>Visualizing the Agent's Behavior [](#toc0_)"
   ]
  },
  {
   "cell_type": "markdown",
   "metadata": {},
   "source": [
    "The behavior of the `agent` can be observed in a graphical environment provided by the Gym library."
   ]
  },
  {
   "cell_type": "code",
   "execution_count": 53,
   "metadata": {
    "id": "FlHPV0kqQWdU"
   },
   "outputs": [
    {
     "name": "stdout",
     "output_type": "stream",
     "text": [
      "-1\n",
      "-1\n",
      "-1\n",
      "-1\n",
      "-1\n",
      "-1\n",
      "-1\n",
      "-1\n",
      "-1\n",
      "-1\n",
      "20\n"
     ]
    }
   ],
   "source": [
    "env = gym.make('Taxi-v3', render_mode=\"human\")\n",
    "state,_ = env.reset(seed=STUDENT_NUM)\n",
    "env.render()\n",
    "q_values = agent.get_q_values()\n",
    "done = False\n",
    "while done == False:\n",
    "    action = agent.get_optimal_policy(state)\n",
    "    next_state, reward, done, _, _= env.step(action)\n",
    "    state = next_state\n",
    "    print(reward)\n",
    "\n",
    "env.close()"
   ]
  },
  {
   "cell_type": "markdown",
   "metadata": {},
   "source": [
    "The reward for each step is displayed above, with a total sum of $10$. There is a negative reward of $-1$ for each movement and a positive reward of $+20$ for successfully driving the passenger to her destination."
   ]
  }
 ],
 "metadata": {
  "colab": {
   "provenance": [],
   "toc_visible": true
  },
  "kernelspec": {
   "display_name": "Python 3 (ipykernel)",
   "language": "python",
   "name": "python3"
  },
  "language_info": {
   "codemirror_mode": {
    "name": "ipython",
    "version": 3
   },
   "file_extension": ".py",
   "mimetype": "text/x-python",
   "name": "python",
   "nbconvert_exporter": "python",
   "pygments_lexer": "ipython3",
   "version": "3.11.4"
  },
  "toc": {
   "base_numbering": 1,
   "nav_menu": {},
   "number_sections": true,
   "sideBar": true,
   "skip_h1_title": false,
   "title_cell": "Table of Contents",
   "title_sidebar": "Contents",
   "toc_cell": false,
   "toc_position": {
    "height": "calc(100% - 180px)",
    "left": "10px",
    "top": "150px",
    "width": "307.2px"
   },
   "toc_section_display": true,
   "toc_window_display": false
  }
 },
 "nbformat": 4,
 "nbformat_minor": 1
}
